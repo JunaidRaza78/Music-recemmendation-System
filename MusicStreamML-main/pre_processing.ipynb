{
 "cells": [
  {
   "cell_type": "markdown",
   "id": "e4b0df95",
   "metadata": {},
   "source": [
    "# Performing pre-processing on the audio dataset (extracting the Mel-Frequency Cepstral Coefficients (MFCC) features):\n"
   ]
  },
  {
   "cell_type": "code",
   "execution_count": 20,
   "id": "3c7b5426",
   "metadata": {},
   "outputs": [],
   "source": [
    "#   Function to extract and return relevant features from the audio files.\n",
    "\n",
    "def extract_features(file_name):\n",
    "    audio, sample_rate=librosa.load(file_name, res_type=\"kaiser_fast\")  #   Loading the audio file.\n",
    "    mfcc=librosa.feature.mfcc(y=audio, sr=sample_rate, n_mfcc=40)   #   Extracting the Mel-Frequency Cepstral Coefficients (MFCC) features.\n",
    "    mfcc_scaled=np.mean(mfcc.T, axis=0) #   Scaling the Mel-Frequency Cepstral Coefficients (MFCC) features.\n",
    "    return mfcc_scaled"
   ]
  },
  {
   "cell_type": "code",
   "execution_count": 7,
   "id": "c08f0ed9",
   "metadata": {},
   "outputs": [
    {
     "name": "stderr",
     "output_type": "stream",
     "text": [
      "1155it [03:40,  6.99it/s]"
     ]
    },
    {
     "name": "stdout",
     "output_type": "stream",
     "text": [
      "Error processing fma_large\\001\\001486.mp3: \n"
     ]
    },
    {
     "name": "stderr",
     "output_type": "stream",
     "text": [
      "1681it [05:22,  4.13it/s]"
     ]
    },
    {
     "name": "stdout",
     "output_type": "stream",
     "text": [
      "Error processing fma_large\\002\\002624.mp3: \n"
     ]
    },
    {
     "name": "stderr",
     "output_type": "stream",
     "text": [
      "1710it [05:27,  7.03it/s]"
     ]
    },
    {
     "name": "stdout",
     "output_type": "stream",
     "text": [
      "Error processing fma_large\\003\\003284.mp3: \n"
     ]
    },
    {
     "name": "stderr",
     "output_type": "stream",
     "text": [
      "3280it [10:29,  5.14it/s]"
     ]
    },
    {
     "name": "stdout",
     "output_type": "stream",
     "text": [
      "Error processing fma_large\\005\\005574.mp3: \n"
     ]
    },
    {
     "name": "stderr",
     "output_type": "stream",
     "text": [
      "4349it [14:01,  7.21it/s]"
     ]
    },
    {
     "name": "stdout",
     "output_type": "stream",
     "text": [
      "Error processing fma_large\\008\\008669.mp3: \n"
     ]
    },
    {
     "name": "stderr",
     "output_type": "stream",
     "text": [
      "5345it [16:59,  6.87it/s]"
     ]
    },
    {
     "name": "stdout",
     "output_type": "stream",
     "text": [
      "Error processing fma_large\\010\\010116.mp3: \n"
     ]
    },
    {
     "name": "stderr",
     "output_type": "stream",
     "text": [
      "6339it [20:09,  5.51it/s]"
     ]
    },
    {
     "name": "stdout",
     "output_type": "stream",
     "text": [
      "Error processing fma_large\\011\\011583.mp3: \n"
     ]
    },
    {
     "name": "stderr",
     "output_type": "stream",
     "text": [
      "7306it [23:26,  6.45it/s]"
     ]
    },
    {
     "name": "stdout",
     "output_type": "stream",
     "text": [
      "Error processing fma_large\\012\\012838.mp3: \n"
     ]
    },
    {
     "name": "stderr",
     "output_type": "stream",
     "text": [
      "7828it [25:09,  5.29it/s]"
     ]
    },
    {
     "name": "stdout",
     "output_type": "stream",
     "text": [
      "Error processing fma_large\\013\\013529.mp3: \n"
     ]
    },
    {
     "name": "stderr",
     "output_type": "stream",
     "text": [
      "8293it [26:43,  5.83it/s]"
     ]
    },
    {
     "name": "stdout",
     "output_type": "stream",
     "text": [
      "Error processing fma_large\\014\\014116.mp3: \n"
     ]
    },
    {
     "name": "stderr",
     "output_type": "stream",
     "text": [
      "8344it [26:53,  4.55it/s]"
     ]
    },
    {
     "name": "stdout",
     "output_type": "stream",
     "text": [
      "Error processing fma_large\\014\\014180.mp3: \n"
     ]
    },
    {
     "name": "stderr",
     "output_type": "stream",
     "text": [
      "11555it [37:38,  4.06it/s]"
     ]
    },
    {
     "name": "stdout",
     "output_type": "stream",
     "text": [
      "Error processing fma_large\\018\\018924.mp3: \n"
     ]
    },
    {
     "name": "stderr",
     "output_type": "stream",
     "text": [
      "12753it [41:37,  4.97it/s]"
     ]
    },
    {
     "name": "stdout",
     "output_type": "stream",
     "text": [
      "Error processing fma_large\\020\\020814.mp3: \n"
     ]
    },
    {
     "name": "stderr",
     "output_type": "stream",
     "text": [
      "14002it [45:48,  5.02it/s]"
     ]
    },
    {
     "name": "stdout",
     "output_type": "stream",
     "text": [
      "Error processing fma_large\\022\\022554.mp3: \n"
     ]
    },
    {
     "name": "stderr",
     "output_type": "stream",
     "text": [
      "14557it [47:37,  5.11it/s]"
     ]
    },
    {
     "name": "stdout",
     "output_type": "stream",
     "text": [
      "Error processing fma_large\\023\\023429.mp3: \n",
      "Error processing fma_large\\023\\023430.mp3: \n"
     ]
    },
    {
     "name": "stderr",
     "output_type": "stream",
     "text": [
      "14561it [47:38,  7.15it/s]"
     ]
    },
    {
     "name": "stdout",
     "output_type": "stream",
     "text": [
      "Error processing fma_large\\023\\023431.mp3: \n"
     ]
    },
    {
     "name": "stderr",
     "output_type": "stream",
     "text": [
      "15720it [51:30,  4.59it/s]"
     ]
    },
    {
     "name": "stdout",
     "output_type": "stream",
     "text": [
      "Error processing fma_large\\025\\025173.mp3: \n",
      "Error processing fma_large\\025\\025174.mp3: \n",
      "Error processing fma_large\\025\\025175.mp3: \n",
      "Error processing fma_large\\025\\025176.mp3: \n"
     ]
    },
    {
     "name": "stderr",
     "output_type": "stream",
     "text": [
      "15727it [51:31,  6.66it/s]"
     ]
    },
    {
     "name": "stdout",
     "output_type": "stream",
     "text": [
      "Error processing fma_large\\025\\025180.mp3: \n"
     ]
    },
    {
     "name": "stderr",
     "output_type": "stream",
     "text": [
      "18327it [1:00:07, 10.32it/s]"
     ]
    },
    {
     "name": "stdout",
     "output_type": "stream",
     "text": [
      "Error processing fma_large\\029\\029345.mp3: \n",
      "Error processing fma_large\\029\\029346.mp3: \n"
     ]
    },
    {
     "name": "stderr",
     "output_type": "stream",
     "text": [
      "18334it [1:00:08, 12.01it/s]"
     ]
    },
    {
     "name": "stdout",
     "output_type": "stream",
     "text": [
      "Error processing fma_large\\029\\029352.mp3: \n"
     ]
    },
    {
     "name": "stderr",
     "output_type": "stream",
     "text": [
      "18338it [1:00:08, 12.42it/s]"
     ]
    },
    {
     "name": "stdout",
     "output_type": "stream",
     "text": [
      "Error processing fma_large\\029\\029356.mp3: \n"
     ]
    },
    {
     "name": "stderr",
     "output_type": "stream",
     "text": [
      "21315it [1:10:11,  4.48it/s]"
     ]
    },
    {
     "name": "stdout",
     "output_type": "stream",
     "text": [
      "Error processing fma_large\\033\\033391.mp3: \n"
     ]
    },
    {
     "name": "stderr",
     "output_type": "stream",
     "text": [
      "21322it [1:10:12,  6.66it/s]"
     ]
    },
    {
     "name": "stdout",
     "output_type": "stream",
     "text": [
      "Error processing fma_large\\033\\033411.mp3: \n",
      "Error processing fma_large\\033\\033413.mp3: \n",
      "Error processing fma_large\\033\\033414.mp3: \n"
     ]
    },
    {
     "name": "stderr",
     "output_type": "stream",
     "text": [
      "21330it [1:10:12, 14.08it/s]"
     ]
    },
    {
     "name": "stdout",
     "output_type": "stream",
     "text": [
      "Error processing fma_large\\033\\033417.mp3: \n",
      "Error processing fma_large\\033\\033418.mp3: \n",
      "Error processing fma_large\\033\\033419.mp3: \n"
     ]
    },
    {
     "name": "stderr",
     "output_type": "stream",
     "text": [
      "21334it [1:10:13, 10.45it/s]"
     ]
    },
    {
     "name": "stdout",
     "output_type": "stream",
     "text": [
      "Error processing fma_large\\033\\033425.mp3: \n"
     ]
    },
    {
     "name": "stderr",
     "output_type": "stream",
     "text": [
      "22932it [1:15:37,  2.04it/s]"
     ]
    },
    {
     "name": "stdout",
     "output_type": "stream",
     "text": [
      "Error processing fma_large\\035\\035725.mp3: \n"
     ]
    },
    {
     "name": "stderr",
     "output_type": "stream",
     "text": [
      "25500it [1:24:13,  5.48it/s]"
     ]
    },
    {
     "name": "stdout",
     "output_type": "stream",
     "text": [
      "Error processing fma_large\\039\\039363.mp3: \n"
     ]
    },
    {
     "name": "stderr",
     "output_type": "stream",
     "text": [
      "26447it [1:27:26,  6.63it/s]"
     ]
    },
    {
     "name": "stdout",
     "output_type": "stream",
     "text": [
      "Error processing fma_large\\040\\040576.mp3: \n"
     ]
    },
    {
     "name": "stderr",
     "output_type": "stream",
     "text": [
      "27385it [1:30:35,  4.90it/s]"
     ]
    },
    {
     "name": "stdout",
     "output_type": "stream",
     "text": [
      "Error processing fma_large\\041\\041745.mp3: \n"
     ]
    },
    {
     "name": "stderr",
     "output_type": "stream",
     "text": [
      "28396it [1:33:59,  7.08it/s]"
     ]
    },
    {
     "name": "stdout",
     "output_type": "stream",
     "text": [
      "Error processing fma_large\\042\\042986.mp3: \n"
     ]
    },
    {
     "name": "stderr",
     "output_type": "stream",
     "text": [
      "28957it [1:35:54,  7.06it/s]"
     ]
    },
    {
     "name": "stdout",
     "output_type": "stream",
     "text": [
      "Error processing fma_large\\043\\043753.mp3: \n"
     ]
    },
    {
     "name": "stderr",
     "output_type": "stream",
     "text": [
      "33257it [1:50:39,  6.36it/s]"
     ]
    },
    {
     "name": "stdout",
     "output_type": "stream",
     "text": [
      "Error processing fma_large\\050\\050594.mp3: \n"
     ]
    },
    {
     "name": "stderr",
     "output_type": "stream",
     "text": [
      "33365it [1:51:01,  5.86it/s]"
     ]
    },
    {
     "name": "stdout",
     "output_type": "stream",
     "text": [
      "Error processing fma_large\\050\\050782.mp3: \n"
     ]
    },
    {
     "name": "stderr",
     "output_type": "stream",
     "text": [
      "34857it [1:56:10,  6.32it/s]"
     ]
    },
    {
     "name": "stdout",
     "output_type": "stream",
     "text": [
      "Error processing fma_large\\052\\052640.mp3: \n"
     ]
    },
    {
     "name": "stderr",
     "output_type": "stream",
     "text": [
      "35561it [1:58:35,  6.68it/s]"
     ]
    },
    {
     "name": "stdout",
     "output_type": "stream",
     "text": [
      "Error processing fma_large\\053\\053668.mp3: \n"
     ]
    },
    {
     "name": "stderr",
     "output_type": "stream",
     "text": [
      "36255it [2:00:58,  7.18it/s]"
     ]
    },
    {
     "name": "stdout",
     "output_type": "stream",
     "text": [
      "Error processing fma_large\\054\\054569.mp3: \n"
     ]
    },
    {
     "name": "stderr",
     "output_type": "stream",
     "text": [
      "36268it [2:00:59,  9.46it/s]"
     ]
    },
    {
     "name": "stdout",
     "output_type": "stream",
     "text": [
      "Error processing fma_large\\054\\054582.mp3: \n"
     ]
    },
    {
     "name": "stderr",
     "output_type": "stream",
     "text": [
      "41272it [2:18:10,  6.60it/s]"
     ]
    },
    {
     "name": "stdout",
     "output_type": "stream",
     "text": [
      "Error processing fma_large\\061\\061480.mp3: \n"
     ]
    },
    {
     "name": "stderr",
     "output_type": "stream",
     "text": [
      "41547it [2:19:08,  5.31it/s]"
     ]
    },
    {
     "name": "stdout",
     "output_type": "stream",
     "text": [
      "Error processing fma_large\\061\\061822.mp3: \n"
     ]
    },
    {
     "name": "stderr",
     "output_type": "stream",
     "text": [
      "42738it [2:23:13,  6.25it/s]"
     ]
    },
    {
     "name": "stdout",
     "output_type": "stream",
     "text": [
      "Error processing fma_large\\063\\063422.mp3: \n"
     ]
    },
    {
     "name": "stderr",
     "output_type": "stream",
     "text": [
      "43103it [2:24:29,  6.30it/s]"
     ]
    },
    {
     "name": "stdout",
     "output_type": "stream",
     "text": [
      "Error processing fma_large\\063\\063997.mp3: \n"
     ]
    },
    {
     "name": "stderr",
     "output_type": "stream",
     "text": [
      "44558it [2:29:30,  4.84it/s]"
     ]
    },
    {
     "name": "stdout",
     "output_type": "stream",
     "text": [
      "Error processing fma_large\\065\\065753.mp3: \n"
     ]
    },
    {
     "name": "stderr",
     "output_type": "stream",
     "text": [
      "48825it [2:44:16,  6.01it/s]"
     ]
    },
    {
     "name": "stdout",
     "output_type": "stream",
     "text": [
      "Error processing fma_large\\071\\071612.mp3: \n"
     ]
    },
    {
     "name": "stderr",
     "output_type": "stream",
     "text": [
      "49651it [2:47:06,  7.05it/s]"
     ]
    },
    {
     "name": "stdout",
     "output_type": "stream",
     "text": [
      "Error processing fma_large\\072\\072656.mp3: \n"
     ]
    },
    {
     "name": "stderr",
     "output_type": "stream",
     "text": [
      "49819it [2:47:41,  5.35it/s]"
     ]
    },
    {
     "name": "stdout",
     "output_type": "stream",
     "text": [
      "Error processing fma_large\\072\\072980.mp3: \n"
     ]
    },
    {
     "name": "stderr",
     "output_type": "stream",
     "text": [
      "50267it [2:49:15,  4.87it/s]"
     ]
    },
    {
     "name": "stdout",
     "output_type": "stream",
     "text": [
      "Error processing fma_large\\073\\073510.mp3: \n"
     ]
    },
    {
     "name": "stderr",
     "output_type": "stream",
     "text": [
      "54117it [3:02:36,  6.59it/s]"
     ]
    },
    {
     "name": "stdout",
     "output_type": "stream",
     "text": [
      "Error processing fma_large\\080\\080391.mp3: \n"
     ]
    },
    {
     "name": "stderr",
     "output_type": "stream",
     "text": [
      "54194it [3:02:52,  6.50it/s]"
     ]
    },
    {
     "name": "stdout",
     "output_type": "stream",
     "text": [
      "Error processing fma_large\\080\\080553.mp3: \n"
     ]
    },
    {
     "name": "stderr",
     "output_type": "stream",
     "text": [
      "55939it [3:08:56,  4.28it/s]"
     ]
    },
    {
     "name": "stdout",
     "output_type": "stream",
     "text": [
      "Error processing fma_large\\082\\082699.mp3: \n"
     ]
    },
    {
     "name": "stderr",
     "output_type": "stream",
     "text": [
      "57339it [3:13:44,  4.32it/s]"
     ]
    },
    {
     "name": "stdout",
     "output_type": "stream",
     "text": [
      "Error processing fma_large\\084\\084503.mp3: \n",
      "Error processing fma_large\\084\\084504.mp3: \n"
     ]
    },
    {
     "name": "stderr",
     "output_type": "stream",
     "text": [
      "57350it [3:13:46,  5.23it/s]"
     ]
    },
    {
     "name": "stdout",
     "output_type": "stream",
     "text": [
      "Error processing fma_large\\084\\084522.mp3: \n"
     ]
    },
    {
     "name": "stderr",
     "output_type": "stream",
     "text": [
      "\r",
      "57352it [3:13:46,  6.50it/s]"
     ]
    },
    {
     "name": "stdout",
     "output_type": "stream",
     "text": [
      "Error processing fma_large\\084\\084524.mp3: \n"
     ]
    },
    {
     "name": "stderr",
     "output_type": "stream",
     "text": [
      "59133it [3:20:00,  5.00it/s]"
     ]
    },
    {
     "name": "stdout",
     "output_type": "stream",
     "text": [
      "Error processing fma_large\\086\\086656.mp3: \n"
     ]
    },
    {
     "name": "stderr",
     "output_type": "stream",
     "text": [
      "59136it [3:20:00,  5.31it/s]"
     ]
    },
    {
     "name": "stdout",
     "output_type": "stream",
     "text": [
      "Error processing fma_large\\086\\086659.mp3: \n"
     ]
    },
    {
     "name": "stderr",
     "output_type": "stream",
     "text": [
      "59140it [3:20:01,  7.69it/s]"
     ]
    },
    {
     "name": "stdout",
     "output_type": "stream",
     "text": [
      "Error processing fma_large\\086\\086661.mp3: \n"
     ]
    },
    {
     "name": "stderr",
     "output_type": "stream",
     "text": [
      "59143it [3:20:01,  7.82it/s]"
     ]
    },
    {
     "name": "stdout",
     "output_type": "stream",
     "text": [
      "Error processing fma_large\\086\\086664.mp3: \n"
     ]
    },
    {
     "name": "stderr",
     "output_type": "stream",
     "text": [
      "59356it [3:20:45,  5.09it/s]"
     ]
    },
    {
     "name": "stdout",
     "output_type": "stream",
     "text": [
      "Error processing fma_large\\087\\087057.mp3: \n"
     ]
    },
    {
     "name": "stderr",
     "output_type": "stream",
     "text": [
      "60695it [3:25:28,  4.08it/s]"
     ]
    },
    {
     "name": "stdout",
     "output_type": "stream",
     "text": [
      "Error processing fma_large\\090\\090244.mp3: \n",
      "Error processing fma_large\\090\\090245.mp3: \n",
      "Error processing fma_large\\090\\090247.mp3: \n",
      "Error processing fma_large\\090\\090248.mp3: \n",
      "Error processing fma_large\\090\\090250.mp3: \n",
      "Error processing fma_large\\090\\090252.mp3: \n",
      "Error processing fma_large\\090\\090253.mp3: \n"
     ]
    },
    {
     "name": "stderr",
     "output_type": "stream",
     "text": [
      "60751it [3:25:38,  4.74it/s]"
     ]
    },
    {
     "name": "stdout",
     "output_type": "stream",
     "text": [
      "Error processing fma_large\\090\\090442.mp3: \n"
     ]
    },
    {
     "name": "stderr",
     "output_type": "stream",
     "text": [
      "\r",
      "60753it [3:25:38,  5.88it/s]"
     ]
    },
    {
     "name": "stdout",
     "output_type": "stream",
     "text": [
      "Error processing fma_large\\090\\090445.mp3: \n"
     ]
    },
    {
     "name": "stderr",
     "output_type": "stream",
     "text": [
      "61228it [3:27:19,  3.74it/s]"
     ]
    },
    {
     "name": "stdout",
     "output_type": "stream",
     "text": [
      "Error processing fma_large\\091\\091206.mp3: \n"
     ]
    },
    {
     "name": "stderr",
     "output_type": "stream",
     "text": [
      "62118it [3:30:24,  4.75it/s]"
     ]
    },
    {
     "name": "stdout",
     "output_type": "stream",
     "text": [
      "Error processing fma_large\\092\\092479.mp3: \n"
     ]
    },
    {
     "name": "stderr",
     "output_type": "stream",
     "text": [
      "62891it [3:33:09,  6.67it/s]"
     ]
    },
    {
     "name": "stdout",
     "output_type": "stream",
     "text": [
      "Error processing fma_large\\094\\094052.mp3: \n"
     ]
    },
    {
     "name": "stderr",
     "output_type": "stream",
     "text": [
      "63039it [3:33:41,  7.11it/s]"
     ]
    },
    {
     "name": "stdout",
     "output_type": "stream",
     "text": [
      "Error processing fma_large\\094\\094234.mp3: \n"
     ]
    },
    {
     "name": "stderr",
     "output_type": "stream",
     "text": [
      "63688it [3:35:58,  5.05it/s]"
     ]
    },
    {
     "name": "stdout",
     "output_type": "stream",
     "text": [
      "Error processing fma_large\\095\\095253.mp3: \n"
     ]
    },
    {
     "name": "stderr",
     "output_type": "stream",
     "text": [
      "64345it [3:38:16,  4.05it/s]"
     ]
    },
    {
     "name": "stdout",
     "output_type": "stream",
     "text": [
      "Error processing fma_large\\096\\096203.mp3: \n"
     ]
    },
    {
     "name": "stderr",
     "output_type": "stream",
     "text": [
      "\r",
      "64347it [3:38:16,  5.27it/s]"
     ]
    },
    {
     "name": "stdout",
     "output_type": "stream",
     "text": [
      "Error processing fma_large\\096\\096207.mp3: \n"
     ]
    },
    {
     "name": "stderr",
     "output_type": "stream",
     "text": [
      "\r",
      "64349it [3:38:17,  6.09it/s]"
     ]
    },
    {
     "name": "stdout",
     "output_type": "stream",
     "text": [
      "Error processing fma_large\\096\\096210.mp3: \n"
     ]
    },
    {
     "name": "stderr",
     "output_type": "stream",
     "text": [
      "65676it [3:43:55,  2.68it/s]"
     ]
    },
    {
     "name": "stdout",
     "output_type": "stream",
     "text": [
      "Error processing fma_large\\098\\098105.mp3: \n"
     ]
    },
    {
     "name": "stderr",
     "output_type": "stream",
     "text": [
      "66003it [3:45:49,  8.43it/s]"
     ]
    },
    {
     "name": "stdout",
     "output_type": "stream",
     "text": [
      "Error processing fma_large\\098\\098558.mp3: \n",
      "Error processing fma_large\\098\\098559.mp3: \n",
      "Error processing fma_large\\098\\098560.mp3: \n",
      "Error processing fma_large\\098\\098562.mp3: \n",
      "Error processing fma_large\\098\\098565.mp3: \n",
      "Error processing fma_large\\098\\098566.mp3: \n",
      "Error processing fma_large\\098\\098567.mp3: \n",
      "Error processing fma_large\\098\\098568.mp3: \n",
      "Error processing fma_large\\098\\098569.mp3: \n",
      "Error processing fma_large\\098\\098571.mp3: \n"
     ]
    },
    {
     "name": "stderr",
     "output_type": "stream",
     "text": [
      "66472it [3:48:18,  6.39it/s]"
     ]
    },
    {
     "name": "stdout",
     "output_type": "stream",
     "text": [
      "Error processing fma_large\\099\\099134.mp3: \n"
     ]
    },
    {
     "name": "stderr",
     "output_type": "stream",
     "text": [
      "67273it [3:51:09,  6.70it/s]"
     ]
    },
    {
     "name": "stdout",
     "output_type": "stream",
     "text": [
      "Error processing fma_large\\101\\101265.mp3: \n"
     ]
    },
    {
     "name": "stderr",
     "output_type": "stream",
     "text": [
      "67275it [3:51:10,  5.72it/s]"
     ]
    },
    {
     "name": "stdout",
     "output_type": "stream",
     "text": [
      "Error processing fma_large\\101\\101272.mp3: \n",
      "Error processing fma_large\\101\\101275.mp3: \n"
     ]
    },
    {
     "name": "stderr",
     "output_type": "stream",
     "text": [
      "67584it [3:52:15,  5.03it/s]"
     ]
    },
    {
     "name": "stdout",
     "output_type": "stream",
     "text": [
      "Error processing fma_large\\102\\102241.mp3: \n",
      "Error processing fma_large\\102\\102243.mp3: \n"
     ]
    },
    {
     "name": "stderr",
     "output_type": "stream",
     "text": [
      "\r",
      "67587it [3:52:15,  7.83it/s]"
     ]
    },
    {
     "name": "stdout",
     "output_type": "stream",
     "text": [
      "Error processing fma_large\\102\\102247.mp3: \n"
     ]
    },
    {
     "name": "stderr",
     "output_type": "stream",
     "text": [
      "67591it [3:52:16,  8.69it/s]"
     ]
    },
    {
     "name": "stdout",
     "output_type": "stream",
     "text": [
      "Error processing fma_large\\102\\102249.mp3: \n"
     ]
    },
    {
     "name": "stderr",
     "output_type": "stream",
     "text": [
      "67607it [3:52:19,  6.59it/s]"
     ]
    },
    {
     "name": "stdout",
     "output_type": "stream",
     "text": [
      "Error processing fma_large\\102\\102289.mp3: \n"
     ]
    },
    {
     "name": "stderr",
     "output_type": "stream",
     "text": [
      "68836it [3:56:39,  4.46it/s]"
     ]
    },
    {
     "name": "stdout",
     "output_type": "stream",
     "text": [
      "Error processing fma_large\\105\\105247.mp3: \n"
     ]
    },
    {
     "name": "stderr",
     "output_type": "stream",
     "text": [
      "69649it [3:59:32,  4.90it/s]"
     ]
    },
    {
     "name": "stdout",
     "output_type": "stream",
     "text": [
      "Error processing fma_large\\106\\106409.mp3: \n"
     ]
    },
    {
     "name": "stderr",
     "output_type": "stream",
     "text": [
      "69654it [3:59:33,  6.90it/s]"
     ]
    },
    {
     "name": "stdout",
     "output_type": "stream",
     "text": [
      "Error processing fma_large\\106\\106412.mp3: \n"
     ]
    },
    {
     "name": "stderr",
     "output_type": "stream",
     "text": [
      "69657it [3:59:33,  7.27it/s]"
     ]
    },
    {
     "name": "stdout",
     "output_type": "stream",
     "text": [
      "Error processing fma_large\\106\\106415.mp3: \n"
     ]
    },
    {
     "name": "stderr",
     "output_type": "stream",
     "text": [
      "69834it [4:00:12,  6.12it/s]"
     ]
    },
    {
     "name": "stdout",
     "output_type": "stream",
     "text": [
      "Error processing fma_large\\106\\106628.mp3: \n"
     ]
    },
    {
     "name": "stderr",
     "output_type": "stream",
     "text": [
      "71710it [4:06:49,  3.94it/s]"
     ]
    },
    {
     "name": "stdout",
     "output_type": "stream",
     "text": [
      "Error processing fma_large\\108\\108920.mp3: \n"
     ]
    },
    {
     "name": "stderr",
     "output_type": "stream",
     "text": [
      "\r",
      "71712it [4:06:50,  5.17it/s]"
     ]
    },
    {
     "name": "stdout",
     "output_type": "stream",
     "text": [
      "Error processing fma_large\\108\\108925.mp3: \n"
     ]
    },
    {
     "name": "stderr",
     "output_type": "stream",
     "text": [
      "71989it [4:07:46,  5.38it/s]"
     ]
    },
    {
     "name": "stdout",
     "output_type": "stream",
     "text": [
      "Error processing fma_large\\109\\109266.mp3: \n"
     ]
    },
    {
     "name": "stderr",
     "output_type": "stream",
     "text": [
      "72665it [4:10:06,  6.77it/s]"
     ]
    },
    {
     "name": "stdout",
     "output_type": "stream",
     "text": [
      "Error processing fma_large\\110\\110236.mp3: \n"
     ]
    },
    {
     "name": "stderr",
     "output_type": "stream",
     "text": [
      "76913it [4:24:33,  4.86it/s]"
     ]
    },
    {
     "name": "stdout",
     "output_type": "stream",
     "text": [
      "Error processing fma_large\\115\\115610.mp3: \n"
     ]
    },
    {
     "name": "stderr",
     "output_type": "stream",
     "text": [
      "78311it [4:29:37,  6.16it/s]"
     ]
    },
    {
     "name": "stdout",
     "output_type": "stream",
     "text": [
      "Error processing fma_large\\117\\117441.mp3: \n"
     ]
    },
    {
     "name": "stderr",
     "output_type": "stream",
     "text": [
      "80887it [4:38:43,  5.74it/s]"
     ]
    },
    {
     "name": "stdout",
     "output_type": "stream",
     "text": [
      "Error processing fma_large\\120\\120571.mp3: \n"
     ]
    },
    {
     "name": "stderr",
     "output_type": "stream",
     "text": [
      "85604it [4:55:40,  4.30it/s]"
     ]
    },
    {
     "name": "stdout",
     "output_type": "stream",
     "text": [
      "Error processing fma_large\\126\\126981.mp3: \n"
     ]
    },
    {
     "name": "stderr",
     "output_type": "stream",
     "text": [
      "85919it [4:56:46,  4.86it/s]"
     ]
    },
    {
     "name": "stdout",
     "output_type": "stream",
     "text": [
      "Error processing fma_large\\127\\127336.mp3: \n"
     ]
    },
    {
     "name": "stderr",
     "output_type": "stream",
     "text": [
      "86383it [4:58:25,  4.57it/s]"
     ]
    },
    {
     "name": "stdout",
     "output_type": "stream",
     "text": [
      "Error processing fma_large\\127\\127928.mp3: \n"
     ]
    },
    {
     "name": "stderr",
     "output_type": "stream",
     "text": [
      "87287it [5:01:36,  4.79it/s]"
     ]
    },
    {
     "name": "stdout",
     "output_type": "stream",
     "text": [
      "Error processing fma_large\\129\\129207.mp3: \n"
     ]
    },
    {
     "name": "stderr",
     "output_type": "stream",
     "text": [
      "87719it [5:03:08,  5.74it/s]"
     ]
    },
    {
     "name": "stdout",
     "output_type": "stream",
     "text": [
      "Error processing fma_large\\129\\129800.mp3: \n"
     ]
    },
    {
     "name": "stderr",
     "output_type": "stream",
     "text": [
      "88135it [5:04:36,  6.59it/s]"
     ]
    },
    {
     "name": "stdout",
     "output_type": "stream",
     "text": [
      "Error processing fma_large\\130\\130328.mp3: \n"
     ]
    },
    {
     "name": "stderr",
     "output_type": "stream",
     "text": [
      "88487it [5:05:50,  4.87it/s]"
     ]
    },
    {
     "name": "stdout",
     "output_type": "stream",
     "text": [
      "Error processing fma_large\\130\\130748.mp3: \n"
     ]
    },
    {
     "name": "stderr",
     "output_type": "stream",
     "text": [
      "88490it [5:05:51,  5.89it/s]"
     ]
    },
    {
     "name": "stdout",
     "output_type": "stream",
     "text": [
      "Error processing fma_large\\130\\130751.mp3: \n"
     ]
    },
    {
     "name": "stderr",
     "output_type": "stream",
     "text": [
      "89160it [5:08:12,  4.39it/s]"
     ]
    },
    {
     "name": "stdout",
     "output_type": "stream",
     "text": [
      "Error processing fma_large\\131\\131545.mp3: \n"
     ]
    },
    {
     "name": "stderr",
     "output_type": "stream",
     "text": [
      "90611it [5:13:22,  4.98it/s]"
     ]
    },
    {
     "name": "stdout",
     "output_type": "stream",
     "text": [
      "Error processing fma_large\\133\\133297.mp3: \n"
     ]
    },
    {
     "name": "stderr",
     "output_type": "stream",
     "text": [
      "90940it [5:14:31,  5.03it/s]"
     ]
    },
    {
     "name": "stdout",
     "output_type": "stream",
     "text": [
      "Error processing fma_large\\133\\133641.mp3: \n"
     ]
    },
    {
     "name": "stderr",
     "output_type": "stream",
     "text": [
      "90948it [5:14:33,  6.23it/s]"
     ]
    },
    {
     "name": "stdout",
     "output_type": "stream",
     "text": [
      "Error processing fma_large\\133\\133647.mp3: \n"
     ]
    },
    {
     "name": "stderr",
     "output_type": "stream",
     "text": [
      "91891it [5:17:53,  4.90it/s]"
     ]
    },
    {
     "name": "stdout",
     "output_type": "stream",
     "text": [
      "Error processing fma_large\\134\\134887.mp3: \n"
     ]
    },
    {
     "name": "stderr",
     "output_type": "stream",
     "text": [
      "96150it [5:33:03, 25.30it/s]"
     ]
    },
    {
     "name": "stdout",
     "output_type": "stream",
     "text": [
      "Error processing fma_large\\140\\140449.mp3: \n",
      "Error processing fma_large\\140\\140450.mp3: \n",
      "Error processing fma_large\\140\\140451.mp3: \n",
      "Error processing fma_large\\140\\140452.mp3: \n",
      "Error processing fma_large\\140\\140453.mp3: \n",
      "Error processing fma_large\\140\\140454.mp3: \n",
      "Error processing fma_large\\140\\140455.mp3: \n",
      "Error processing fma_large\\140\\140456.mp3: \n",
      "Error processing fma_large\\140\\140457.mp3: \n",
      "Error processing fma_large\\140\\140458.mp3: \n",
      "Error processing fma_large\\140\\140459.mp3: \n",
      "Error processing fma_large\\140\\140460.mp3: \n",
      "Error processing fma_large\\140\\140461.mp3: \n",
      "Error processing fma_large\\140\\140462.mp3: \n",
      "Error processing fma_large\\140\\140463.mp3: \n",
      "Error processing fma_large\\140\\140464.mp3: \n",
      "Error processing fma_large\\140\\140465.mp3: \n",
      "Error processing fma_large\\140\\140466.mp3: \n",
      "Error processing fma_large\\140\\140467.mp3: \n",
      "Error processing fma_large\\140\\140468.mp3: \n",
      "Error processing fma_large\\140\\140469.mp3: \n",
      "Error processing fma_large\\140\\140470.mp3: \n",
      "Error processing fma_large\\140\\140471.mp3: \n",
      "Error processing fma_large\\140\\140472.mp3: \n"
     ]
    },
    {
     "name": "stderr",
     "output_type": "stream",
     "text": [
      "97524it [5:37:53,  6.29it/s]"
     ]
    },
    {
     "name": "stdout",
     "output_type": "stream",
     "text": [
      "Error processing fma_large\\142\\142614.mp3: \n"
     ]
    },
    {
     "name": "stderr",
     "output_type": "stream",
     "text": [
      "98651it [5:41:53,  5.85it/s]"
     ]
    },
    {
     "name": "stdout",
     "output_type": "stream",
     "text": [
      "Error processing fma_large\\143\\143992.mp3: \n"
     ]
    },
    {
     "name": "stderr",
     "output_type": "stream",
     "text": [
      "98871it [5:42:41,  4.86it/s]"
     ]
    },
    {
     "name": "stdout",
     "output_type": "stream",
     "text": [
      "Error processing fma_large\\144\\144518.mp3: \n"
     ]
    },
    {
     "name": "stderr",
     "output_type": "stream",
     "text": [
      "98965it [5:43:01,  4.75it/s]"
     ]
    },
    {
     "name": "stdout",
     "output_type": "stream",
     "text": [
      "Error processing fma_large\\144\\144619.mp3: \n"
     ]
    },
    {
     "name": "stderr",
     "output_type": "stream",
     "text": [
      "99386it [5:44:32,  4.92it/s]"
     ]
    },
    {
     "name": "stdout",
     "output_type": "stream",
     "text": [
      "Error processing fma_large\\145\\145056.mp3: \n"
     ]
    },
    {
     "name": "stderr",
     "output_type": "stream",
     "text": [
      "100174it [5:47:20,  6.14it/s]"
     ]
    },
    {
     "name": "stdout",
     "output_type": "stream",
     "text": [
      "Error processing fma_large\\146\\146056.mp3: \n"
     ]
    },
    {
     "name": "stderr",
     "output_type": "stream",
     "text": [
      "101221it [5:51:05,  6.17it/s]"
     ]
    },
    {
     "name": "stdout",
     "output_type": "stream",
     "text": [
      "Error processing fma_large\\147\\147419.mp3: \n"
     ]
    },
    {
     "name": "stderr",
     "output_type": "stream",
     "text": [
      "101226it [5:51:06,  6.45it/s]"
     ]
    },
    {
     "name": "stdout",
     "output_type": "stream",
     "text": [
      "Error processing fma_large\\147\\147424.mp3: \n"
     ]
    },
    {
     "name": "stderr",
     "output_type": "stream",
     "text": [
      "102370it [5:55:10, 15.51it/s]"
     ]
    },
    {
     "name": "stdout",
     "output_type": "stream",
     "text": [
      "Error processing fma_large\\148\\148786.mp3: \n",
      "Error processing fma_large\\148\\148787.mp3: \n",
      "Error processing fma_large\\148\\148788.mp3: \n",
      "Error processing fma_large\\148\\148789.mp3: \n",
      "Error processing fma_large\\148\\148790.mp3: \n",
      "Error processing fma_large\\148\\148791.mp3: \n",
      "Error processing fma_large\\148\\148792.mp3: \n",
      "Error processing fma_large\\148\\148793.mp3: \n",
      "Error processing fma_large\\148\\148794.mp3: \n",
      "Error processing fma_large\\148\\148795.mp3: \n"
     ]
    },
    {
     "name": "stderr",
     "output_type": "stream",
     "text": [
      "104381it [6:02:20,  4.22it/s]"
     ]
    },
    {
     "name": "stdout",
     "output_type": "stream",
     "text": [
      "Error processing fma_large\\151\\151920.mp3: \n"
     ]
    },
    {
     "name": "stderr",
     "output_type": "stream",
     "text": [
      "106373it [6:09:28,  4.57it/s]"
     ]
    },
    {
     "name": "stdout",
     "output_type": "stream",
     "text": [
      "Error processing fma_large\\155\\155051.mp3: \n"
     ]
    },
    {
     "name": "stderr",
     "output_type": "stream",
     "text": [
      "106574it [6:10:12,  4.80it/s]\n"
     ]
    },
    {
     "ename": "PermissionError",
     "evalue": "[Errno 13] Permission denied: 'mfcc_features.csv'",
     "output_type": "error",
     "traceback": [
      "\u001b[1;31m---------------------------------------------------------------------------\u001b[0m",
      "\u001b[1;31mPermissionError\u001b[0m                           Traceback (most recent call last)",
      "Cell \u001b[1;32mIn[7], line 58\u001b[0m\n\u001b[0;32m     55\u001b[0m df \u001b[38;5;241m=\u001b[39m pd\u001b[38;5;241m.\u001b[39mDataFrame({\u001b[38;5;124m'\u001b[39m\u001b[38;5;124mFeature\u001b[39m\u001b[38;5;124m'\u001b[39m: \u001b[38;5;28mlist\u001b[39m(flat_features), \u001b[38;5;124m'\u001b[39m\u001b[38;5;124mLabel\u001b[39m\u001b[38;5;124m'\u001b[39m: labels})\n\u001b[0;32m     57\u001b[0m \u001b[38;5;66;03m# Save the DataFrame to a CSV file\u001b[39;00m\n\u001b[1;32m---> 58\u001b[0m df\u001b[38;5;241m.\u001b[39mto_csv(\u001b[38;5;124m'\u001b[39m\u001b[38;5;124mmfcc_features.csv\u001b[39m\u001b[38;5;124m'\u001b[39m, index\u001b[38;5;241m=\u001b[39m\u001b[38;5;28;01mFalse\u001b[39;00m)\n",
      "File \u001b[1;32m~\\anaconda3\\Lib\\site-packages\\pandas\\core\\generic.py:3772\u001b[0m, in \u001b[0;36mNDFrame.to_csv\u001b[1;34m(self, path_or_buf, sep, na_rep, float_format, columns, header, index, index_label, mode, encoding, compression, quoting, quotechar, lineterminator, chunksize, date_format, doublequote, escapechar, decimal, errors, storage_options)\u001b[0m\n\u001b[0;32m   3761\u001b[0m df \u001b[38;5;241m=\u001b[39m \u001b[38;5;28mself\u001b[39m \u001b[38;5;28;01mif\u001b[39;00m \u001b[38;5;28misinstance\u001b[39m(\u001b[38;5;28mself\u001b[39m, ABCDataFrame) \u001b[38;5;28;01melse\u001b[39;00m \u001b[38;5;28mself\u001b[39m\u001b[38;5;241m.\u001b[39mto_frame()\n\u001b[0;32m   3763\u001b[0m formatter \u001b[38;5;241m=\u001b[39m DataFrameFormatter(\n\u001b[0;32m   3764\u001b[0m     frame\u001b[38;5;241m=\u001b[39mdf,\n\u001b[0;32m   3765\u001b[0m     header\u001b[38;5;241m=\u001b[39mheader,\n\u001b[1;32m   (...)\u001b[0m\n\u001b[0;32m   3769\u001b[0m     decimal\u001b[38;5;241m=\u001b[39mdecimal,\n\u001b[0;32m   3770\u001b[0m )\n\u001b[1;32m-> 3772\u001b[0m \u001b[38;5;28;01mreturn\u001b[39;00m DataFrameRenderer(formatter)\u001b[38;5;241m.\u001b[39mto_csv(\n\u001b[0;32m   3773\u001b[0m     path_or_buf,\n\u001b[0;32m   3774\u001b[0m     lineterminator\u001b[38;5;241m=\u001b[39mlineterminator,\n\u001b[0;32m   3775\u001b[0m     sep\u001b[38;5;241m=\u001b[39msep,\n\u001b[0;32m   3776\u001b[0m     encoding\u001b[38;5;241m=\u001b[39mencoding,\n\u001b[0;32m   3777\u001b[0m     errors\u001b[38;5;241m=\u001b[39merrors,\n\u001b[0;32m   3778\u001b[0m     compression\u001b[38;5;241m=\u001b[39mcompression,\n\u001b[0;32m   3779\u001b[0m     quoting\u001b[38;5;241m=\u001b[39mquoting,\n\u001b[0;32m   3780\u001b[0m     columns\u001b[38;5;241m=\u001b[39mcolumns,\n\u001b[0;32m   3781\u001b[0m     index_label\u001b[38;5;241m=\u001b[39mindex_label,\n\u001b[0;32m   3782\u001b[0m     mode\u001b[38;5;241m=\u001b[39mmode,\n\u001b[0;32m   3783\u001b[0m     chunksize\u001b[38;5;241m=\u001b[39mchunksize,\n\u001b[0;32m   3784\u001b[0m     quotechar\u001b[38;5;241m=\u001b[39mquotechar,\n\u001b[0;32m   3785\u001b[0m     date_format\u001b[38;5;241m=\u001b[39mdate_format,\n\u001b[0;32m   3786\u001b[0m     doublequote\u001b[38;5;241m=\u001b[39mdoublequote,\n\u001b[0;32m   3787\u001b[0m     escapechar\u001b[38;5;241m=\u001b[39mescapechar,\n\u001b[0;32m   3788\u001b[0m     storage_options\u001b[38;5;241m=\u001b[39mstorage_options,\n\u001b[0;32m   3789\u001b[0m )\n",
      "File \u001b[1;32m~\\anaconda3\\Lib\\site-packages\\pandas\\io\\formats\\format.py:1186\u001b[0m, in \u001b[0;36mDataFrameRenderer.to_csv\u001b[1;34m(self, path_or_buf, encoding, sep, columns, index_label, mode, compression, quoting, quotechar, lineterminator, chunksize, date_format, doublequote, escapechar, errors, storage_options)\u001b[0m\n\u001b[0;32m   1165\u001b[0m     created_buffer \u001b[38;5;241m=\u001b[39m \u001b[38;5;28;01mFalse\u001b[39;00m\n\u001b[0;32m   1167\u001b[0m csv_formatter \u001b[38;5;241m=\u001b[39m CSVFormatter(\n\u001b[0;32m   1168\u001b[0m     path_or_buf\u001b[38;5;241m=\u001b[39mpath_or_buf,\n\u001b[0;32m   1169\u001b[0m     lineterminator\u001b[38;5;241m=\u001b[39mlineterminator,\n\u001b[1;32m   (...)\u001b[0m\n\u001b[0;32m   1184\u001b[0m     formatter\u001b[38;5;241m=\u001b[39m\u001b[38;5;28mself\u001b[39m\u001b[38;5;241m.\u001b[39mfmt,\n\u001b[0;32m   1185\u001b[0m )\n\u001b[1;32m-> 1186\u001b[0m csv_formatter\u001b[38;5;241m.\u001b[39msave()\n\u001b[0;32m   1188\u001b[0m \u001b[38;5;28;01mif\u001b[39;00m created_buffer:\n\u001b[0;32m   1189\u001b[0m     \u001b[38;5;28;01massert\u001b[39;00m \u001b[38;5;28misinstance\u001b[39m(path_or_buf, StringIO)\n",
      "File \u001b[1;32m~\\anaconda3\\Lib\\site-packages\\pandas\\io\\formats\\csvs.py:240\u001b[0m, in \u001b[0;36mCSVFormatter.save\u001b[1;34m(self)\u001b[0m\n\u001b[0;32m    236\u001b[0m \u001b[38;5;250m\u001b[39m\u001b[38;5;124;03m\"\"\"\u001b[39;00m\n\u001b[0;32m    237\u001b[0m \u001b[38;5;124;03mCreate the writer & save.\u001b[39;00m\n\u001b[0;32m    238\u001b[0m \u001b[38;5;124;03m\"\"\"\u001b[39;00m\n\u001b[0;32m    239\u001b[0m \u001b[38;5;66;03m# apply compression and byte/text conversion\u001b[39;00m\n\u001b[1;32m--> 240\u001b[0m \u001b[38;5;28;01mwith\u001b[39;00m get_handle(\n\u001b[0;32m    241\u001b[0m     \u001b[38;5;28mself\u001b[39m\u001b[38;5;241m.\u001b[39mfilepath_or_buffer,\n\u001b[0;32m    242\u001b[0m     \u001b[38;5;28mself\u001b[39m\u001b[38;5;241m.\u001b[39mmode,\n\u001b[0;32m    243\u001b[0m     encoding\u001b[38;5;241m=\u001b[39m\u001b[38;5;28mself\u001b[39m\u001b[38;5;241m.\u001b[39mencoding,\n\u001b[0;32m    244\u001b[0m     errors\u001b[38;5;241m=\u001b[39m\u001b[38;5;28mself\u001b[39m\u001b[38;5;241m.\u001b[39merrors,\n\u001b[0;32m    245\u001b[0m     compression\u001b[38;5;241m=\u001b[39m\u001b[38;5;28mself\u001b[39m\u001b[38;5;241m.\u001b[39mcompression,\n\u001b[0;32m    246\u001b[0m     storage_options\u001b[38;5;241m=\u001b[39m\u001b[38;5;28mself\u001b[39m\u001b[38;5;241m.\u001b[39mstorage_options,\n\u001b[0;32m    247\u001b[0m ) \u001b[38;5;28;01mas\u001b[39;00m handles:\n\u001b[0;32m    248\u001b[0m     \u001b[38;5;66;03m# Note: self.encoding is irrelevant here\u001b[39;00m\n\u001b[0;32m    249\u001b[0m     \u001b[38;5;28mself\u001b[39m\u001b[38;5;241m.\u001b[39mwriter \u001b[38;5;241m=\u001b[39m csvlib\u001b[38;5;241m.\u001b[39mwriter(\n\u001b[0;32m    250\u001b[0m         handles\u001b[38;5;241m.\u001b[39mhandle,\n\u001b[0;32m    251\u001b[0m         lineterminator\u001b[38;5;241m=\u001b[39m\u001b[38;5;28mself\u001b[39m\u001b[38;5;241m.\u001b[39mlineterminator,\n\u001b[1;32m   (...)\u001b[0m\n\u001b[0;32m    256\u001b[0m         quotechar\u001b[38;5;241m=\u001b[39m\u001b[38;5;28mself\u001b[39m\u001b[38;5;241m.\u001b[39mquotechar,\n\u001b[0;32m    257\u001b[0m     )\n\u001b[0;32m    259\u001b[0m     \u001b[38;5;28mself\u001b[39m\u001b[38;5;241m.\u001b[39m_save()\n",
      "File \u001b[1;32m~\\anaconda3\\Lib\\site-packages\\pandas\\io\\common.py:859\u001b[0m, in \u001b[0;36mget_handle\u001b[1;34m(path_or_buf, mode, encoding, compression, memory_map, is_text, errors, storage_options)\u001b[0m\n\u001b[0;32m    854\u001b[0m \u001b[38;5;28;01melif\u001b[39;00m \u001b[38;5;28misinstance\u001b[39m(handle, \u001b[38;5;28mstr\u001b[39m):\n\u001b[0;32m    855\u001b[0m     \u001b[38;5;66;03m# Check whether the filename is to be opened in binary mode.\u001b[39;00m\n\u001b[0;32m    856\u001b[0m     \u001b[38;5;66;03m# Binary mode does not support 'encoding' and 'newline'.\u001b[39;00m\n\u001b[0;32m    857\u001b[0m     \u001b[38;5;28;01mif\u001b[39;00m ioargs\u001b[38;5;241m.\u001b[39mencoding \u001b[38;5;129;01mand\u001b[39;00m \u001b[38;5;124m\"\u001b[39m\u001b[38;5;124mb\u001b[39m\u001b[38;5;124m\"\u001b[39m \u001b[38;5;129;01mnot\u001b[39;00m \u001b[38;5;129;01min\u001b[39;00m ioargs\u001b[38;5;241m.\u001b[39mmode:\n\u001b[0;32m    858\u001b[0m         \u001b[38;5;66;03m# Encoding\u001b[39;00m\n\u001b[1;32m--> 859\u001b[0m         handle \u001b[38;5;241m=\u001b[39m \u001b[38;5;28mopen\u001b[39m(\n\u001b[0;32m    860\u001b[0m             handle,\n\u001b[0;32m    861\u001b[0m             ioargs\u001b[38;5;241m.\u001b[39mmode,\n\u001b[0;32m    862\u001b[0m             encoding\u001b[38;5;241m=\u001b[39mioargs\u001b[38;5;241m.\u001b[39mencoding,\n\u001b[0;32m    863\u001b[0m             errors\u001b[38;5;241m=\u001b[39merrors,\n\u001b[0;32m    864\u001b[0m             newline\u001b[38;5;241m=\u001b[39m\u001b[38;5;124m\"\u001b[39m\u001b[38;5;124m\"\u001b[39m,\n\u001b[0;32m    865\u001b[0m         )\n\u001b[0;32m    866\u001b[0m     \u001b[38;5;28;01melse\u001b[39;00m:\n\u001b[0;32m    867\u001b[0m         \u001b[38;5;66;03m# Binary mode\u001b[39;00m\n\u001b[0;32m    868\u001b[0m         handle \u001b[38;5;241m=\u001b[39m \u001b[38;5;28mopen\u001b[39m(handle, ioargs\u001b[38;5;241m.\u001b[39mmode)\n",
      "\u001b[1;31mPermissionError\u001b[0m: [Errno 13] Permission denied: 'mfcc_features.csv'"
     ]
    }
   ],
   "source": [
    "import os\n",
    "import pandas as pd\n",
    "import numpy as np\n",
    "import librosa\n",
    "from tqdm import tqdm\n",
    "\n",
    "# Function to extract MFCC features from audio files\n",
    "def extract_mfcc(file_path, num_mfcc=20, max_length=500):\n",
    "    try:\n",
    "        # Load audio file\n",
    "        audio, sr = librosa.load(file_path, sr=None)\n",
    "        # Extract MFCC features\n",
    "        mfccs = librosa.feature.mfcc(y=audio, sr=sr, n_mfcc=num_mfcc)\n",
    "        # Pad or truncate MFCC features to max_length\n",
    "        if mfccs.shape[1] < max_length:\n",
    "            mfccs = np.pad(mfccs, ((0, 0), (0, max_length - mfccs.shape[1])), mode='constant')\n",
    "        else:\n",
    "            mfccs = mfccs[:, :max_length]\n",
    "        # Return MFCC features\n",
    "        return mfccs.T\n",
    "    except Exception as e:\n",
    "        print(f\"Error processing {file_path}: {e}\")\n",
    "        return None\n",
    "\n",
    "# Function to iterate through all files in a folder and its sub-folders\n",
    "def iterate_files(root_folder):\n",
    "    for root, dirs, files in os.walk(root_folder):\n",
    "        for filename in files:\n",
    "            yield os.path.join(root, filename)\n",
    "\n",
    "# Path to the root folder containing audio files\n",
    "root_folder = \"fma_large\"\n",
    "\n",
    "# Initialize lists to store flattened features and labels\n",
    "flat_features = []\n",
    "labels = []\n",
    "\n",
    "# Iterate through audio files in the folder and its sub-folders\n",
    "for file_path in tqdm(iterate_files(root_folder)):\n",
    "    if file_path.endswith('.mp3'):\n",
    "        # Extract features\n",
    "        mfcc = extract_mfcc(file_path)\n",
    "        if mfcc is not None:\n",
    "            # Flatten the MFCC features\n",
    "            flat_mfcc = mfcc.flatten()\n",
    "            # Append flattened features and corresponding label\n",
    "            flat_features.append(flat_mfcc)\n",
    "            labels.append(os.path.basename(file_path).split('.')[0])  # Assuming label is the part before the first dot in the filename\n",
    "\n",
    "# Convert lists to numpy arrays\n",
    "flat_features = np.array(flat_features)\n",
    "labels = np.array(labels)\n",
    "\n",
    "# Create a DataFrame to store features and labels\n",
    "df = pd.DataFrame({'Feature': list(flat_features), 'Label': labels})\n",
    "\n",
    "# Save the DataFrame to a CSV file\n",
    "df.to_csv('mfcc_features.csv', index=False)\n"
   ]
  },
  {
   "cell_type": "code",
   "execution_count": 8,
   "id": "6bd707de",
   "metadata": {},
   "outputs": [
    {
     "data": {
      "text/html": [
       "<div>\n",
       "<style scoped>\n",
       "    .dataframe tbody tr th:only-of-type {\n",
       "        vertical-align: middle;\n",
       "    }\n",
       "\n",
       "    .dataframe tbody tr th {\n",
       "        vertical-align: top;\n",
       "    }\n",
       "\n",
       "    .dataframe thead th {\n",
       "        text-align: right;\n",
       "    }\n",
       "</style>\n",
       "<table border=\"1\" class=\"dataframe\">\n",
       "  <thead>\n",
       "    <tr style=\"text-align: right;\">\n",
       "      <th></th>\n",
       "      <th>Feature</th>\n",
       "      <th>Label</th>\n",
       "    </tr>\n",
       "  </thead>\n",
       "  <tbody>\n",
       "    <tr>\n",
       "      <th>0</th>\n",
       "      <td>[-505.49918, 0.0, 0.0, 0.0, 0.0, 0.0, 0.0, 0.0...</td>\n",
       "      <td>000002</td>\n",
       "    </tr>\n",
       "    <tr>\n",
       "      <th>1</th>\n",
       "      <td>[-546.32404, 3.5036364, 3.391655, 3.2107925, 2...</td>\n",
       "      <td>000003</td>\n",
       "    </tr>\n",
       "    <tr>\n",
       "      <th>2</th>\n",
       "      <td>[-528.1163, 0.02087694, 0.020843748, 0.0207859...</td>\n",
       "      <td>000005</td>\n",
       "    </tr>\n",
       "    <tr>\n",
       "      <th>3</th>\n",
       "      <td>[-537.1972, 2.36311, 1.72684, 0.8106421, -0.20...</td>\n",
       "      <td>000010</td>\n",
       "    </tr>\n",
       "    <tr>\n",
       "      <th>4</th>\n",
       "      <td>[-496.54355, 8.233688, 7.9586983, 7.515486, 6....</td>\n",
       "      <td>000020</td>\n",
       "    </tr>\n",
       "    <tr>\n",
       "      <th>...</th>\n",
       "      <td>...</td>\n",
       "      <td>...</td>\n",
       "    </tr>\n",
       "    <tr>\n",
       "      <th>106396</th>\n",
       "      <td>[-190.92928, 171.06293, -18.026897, 38.069458,...</td>\n",
       "      <td>155316</td>\n",
       "    </tr>\n",
       "    <tr>\n",
       "      <th>106397</th>\n",
       "      <td>[-153.39252, 129.0062, -16.280928, 47.61666, -...</td>\n",
       "      <td>155317</td>\n",
       "    </tr>\n",
       "    <tr>\n",
       "      <th>106398</th>\n",
       "      <td>[-186.80803, 138.29863, -21.876831, 52.36566, ...</td>\n",
       "      <td>155318</td>\n",
       "    </tr>\n",
       "    <tr>\n",
       "      <th>106399</th>\n",
       "      <td>[-162.47487, 129.75598, -2.489646, 38.75331, 1...</td>\n",
       "      <td>155319</td>\n",
       "    </tr>\n",
       "    <tr>\n",
       "      <th>106400</th>\n",
       "      <td>[-94.72034, 88.25618, 5.5324764, 60.33074, -24...</td>\n",
       "      <td>155320</td>\n",
       "    </tr>\n",
       "  </tbody>\n",
       "</table>\n",
       "<p>106401 rows × 2 columns</p>\n",
       "</div>"
      ],
      "text/plain": [
       "                                                  Feature   Label\n",
       "0       [-505.49918, 0.0, 0.0, 0.0, 0.0, 0.0, 0.0, 0.0...  000002\n",
       "1       [-546.32404, 3.5036364, 3.391655, 3.2107925, 2...  000003\n",
       "2       [-528.1163, 0.02087694, 0.020843748, 0.0207859...  000005\n",
       "3       [-537.1972, 2.36311, 1.72684, 0.8106421, -0.20...  000010\n",
       "4       [-496.54355, 8.233688, 7.9586983, 7.515486, 6....  000020\n",
       "...                                                   ...     ...\n",
       "106396  [-190.92928, 171.06293, -18.026897, 38.069458,...  155316\n",
       "106397  [-153.39252, 129.0062, -16.280928, 47.61666, -...  155317\n",
       "106398  [-186.80803, 138.29863, -21.876831, 52.36566, ...  155318\n",
       "106399  [-162.47487, 129.75598, -2.489646, 38.75331, 1...  155319\n",
       "106400  [-94.72034, 88.25618, 5.5324764, 60.33074, -24...  155320\n",
       "\n",
       "[106401 rows x 2 columns]"
      ]
     },
     "execution_count": 8,
     "metadata": {},
     "output_type": "execute_result"
    }
   ],
   "source": [
    "df"
   ]
  },
  {
   "cell_type": "code",
   "execution_count": 11,
   "id": "37c8eb7d",
   "metadata": {},
   "outputs": [
    {
     "data": {
      "text/plain": [
       "106401"
      ]
     },
     "execution_count": 11,
     "metadata": {},
     "output_type": "execute_result"
    }
   ],
   "source": [
    "len(df)  #   Checking the number of audio files in the pandas.DataFrame.\n"
   ]
  },
  {
   "cell_type": "code",
   "execution_count": 28,
   "id": "e69f1d4a",
   "metadata": {},
   "outputs": [
    {
     "data": {
      "text/html": [
       "<div>\n",
       "<style scoped>\n",
       "    .dataframe tbody tr th:only-of-type {\n",
       "        vertical-align: middle;\n",
       "    }\n",
       "\n",
       "    .dataframe tbody tr th {\n",
       "        vertical-align: top;\n",
       "    }\n",
       "\n",
       "    .dataframe thead th {\n",
       "        text-align: right;\n",
       "    }\n",
       "</style>\n",
       "<table border=\"1\" class=\"dataframe\">\n",
       "  <thead>\n",
       "    <tr style=\"text-align: right;\">\n",
       "      <th></th>\n",
       "      <th>Feature</th>\n",
       "      <th>Label</th>\n",
       "    </tr>\n",
       "  </thead>\n",
       "  <tbody>\n",
       "    <tr>\n",
       "      <th>0</th>\n",
       "      <td>[-505.49918, 0.0, 0.0, 0.0, 0.0, 0.0, 0.0, 0.0, 0.0, 0.0, 0.0, 0.0, 0.0, 0.0, 0.0, 0.0, 0.0, 0.0, 0.0, 0.0, -369.04953, 106.32715, -3.6316793, -6.880691, 8.136753, 0.504894, 7.810167, 7.916319, -1.8093027, 10.70998, 8.038971, -21.083294, -27.42471, -15.193598, -20.95707, -28.285276, -15.568397, -8.181971, -12.256559, -18.827843, -244.5656, 136.0405, -33.938076, 13.452998, 4.5233684, -0.28139162, -4.9782286, 8.261867, -5.819221, 7.0278664, 6.2641964, -17.067081, -18.82659, -15.8501005, -7.2980537, -20.223766, -4.0527067, -5.8691797, -13.106865, -18.857725, -213.77084, 134.94666, -44.719196, 17.682056, 2.8840108, 1.213661, -6.8941317, 15.03833, -4.91531, 4.844971, 1.9339306, -13.390538, -16.761171, -15.196309, 3.4678988, -12.701963, 1.5036604, -6.2001867, -11.495818, -19.432014, -226.78307, 137.82791, -46.830395, 13.150717, 0.5545795, -2.175369, 4.0567303, 18.691036, -0.77067435, -3.7546992, -2.1105182, -7.9100075, -10.268992, -14.9363365, -1.7742882, -10.833584, -3.1677642, -4.6668434, -12.416085, -15.950317, ...]</td>\n",
       "      <td>000002</td>\n",
       "    </tr>\n",
       "  </tbody>\n",
       "</table>\n",
       "</div>"
      ],
      "text/plain": [
       "                                                                                                                                                                                                                                                                                                                                                                                                                                                                                                                                                                                                                                                                                                                                                                                                                                                                                                                                                                                                                                                                Feature  \\\n",
       "0  [-505.49918, 0.0, 0.0, 0.0, 0.0, 0.0, 0.0, 0.0, 0.0, 0.0, 0.0, 0.0, 0.0, 0.0, 0.0, 0.0, 0.0, 0.0, 0.0, 0.0, -369.04953, 106.32715, -3.6316793, -6.880691, 8.136753, 0.504894, 7.810167, 7.916319, -1.8093027, 10.70998, 8.038971, -21.083294, -27.42471, -15.193598, -20.95707, -28.285276, -15.568397, -8.181971, -12.256559, -18.827843, -244.5656, 136.0405, -33.938076, 13.452998, 4.5233684, -0.28139162, -4.9782286, 8.261867, -5.819221, 7.0278664, 6.2641964, -17.067081, -18.82659, -15.8501005, -7.2980537, -20.223766, -4.0527067, -5.8691797, -13.106865, -18.857725, -213.77084, 134.94666, -44.719196, 17.682056, 2.8840108, 1.213661, -6.8941317, 15.03833, -4.91531, 4.844971, 1.9339306, -13.390538, -16.761171, -15.196309, 3.4678988, -12.701963, 1.5036604, -6.2001867, -11.495818, -19.432014, -226.78307, 137.82791, -46.830395, 13.150717, 0.5545795, -2.175369, 4.0567303, 18.691036, -0.77067435, -3.7546992, -2.1105182, -7.9100075, -10.268992, -14.9363365, -1.7742882, -10.833584, -3.1677642, -4.6668434, -12.416085, -15.950317, ...]   \n",
       "\n",
       "    Label  \n",
       "0  000002  "
      ]
     },
     "execution_count": 28,
     "metadata": {},
     "output_type": "execute_result"
    }
   ],
   "source": [
    "import pandas as pd\n",
    "pd.set_option('display.max_colwidth', None)\n",
    "new_Df=df\n",
    "new_Df.head(1)"
   ]
  },
  {
   "cell_type": "code",
   "execution_count": 29,
   "id": "d41ebfc0",
   "metadata": {},
   "outputs": [],
   "source": [
    "df.to_pickle(\"features.pkl\") #   Saving the pandas.DataFrame as a pickle (.pkl) file."
   ]
  },
  {
   "cell_type": "code",
   "execution_count": 30,
   "id": "7dbdcec0",
   "metadata": {},
   "outputs": [
    {
     "name": "stdout",
     "output_type": "stream",
     "text": [
      "                                                                                                                                                                                                                                                                                                                                                                                                                                                                                                                                                                                                                                                                                                                                                                                                                                                                                                                                                                                                                                                                Feature  \\\n",
      "0  [-505.49918, 0.0, 0.0, 0.0, 0.0, 0.0, 0.0, 0.0, 0.0, 0.0, 0.0, 0.0, 0.0, 0.0, 0.0, 0.0, 0.0, 0.0, 0.0, 0.0, -369.04953, 106.32715, -3.6316793, -6.880691, 8.136753, 0.504894, 7.810167, 7.916319, -1.8093027, 10.70998, 8.038971, -21.083294, -27.42471, -15.193598, -20.95707, -28.285276, -15.568397, -8.181971, -12.256559, -18.827843, -244.5656, 136.0405, -33.938076, 13.452998, 4.5233684, -0.28139162, -4.9782286, 8.261867, -5.819221, 7.0278664, 6.2641964, -17.067081, -18.82659, -15.8501005, -7.2980537, -20.223766, -4.0527067, -5.8691797, -13.106865, -18.857725, -213.77084, 134.94666, -44.719196, 17.682056, 2.8840108, 1.213661, -6.8941317, 15.03833, -4.91531, 4.844971, 1.9339306, -13.390538, -16.761171, -15.196309, 3.4678988, -12.701963, 1.5036604, -6.2001867, -11.495818, -19.432014, -226.78307, 137.82791, -46.830395, 13.150717, 0.5545795, -2.175369, 4.0567303, 18.691036, -0.77067435, -3.7546992, -2.1105182, -7.9100075, -10.268992, -14.9363365, -1.7742882, -10.833584, -3.1677642, -4.6668434, -12.416085, -15.950317, ...]   \n",
      "\n",
      "    Label  \n",
      "0  000002  \n"
     ]
    }
   ],
   "source": [
    "import pandas as pd\n",
    "\n",
    "# Read data from features.pkl into a DataFrame\n",
    "daaf = pd.read_pickle('features.pkl')\n",
    "\n",
    "# Print the first line of the DataFrame\n",
    "print(daaf.head(1))\n"
   ]
  },
  {
   "cell_type": "code",
   "execution_count": null,
   "id": "d9c33ebc",
   "metadata": {},
   "outputs": [],
   "source": []
  }
 ],
 "metadata": {
  "kernelspec": {
   "display_name": "Python 3 (ipykernel)",
   "language": "python",
   "name": "python3"
  },
  "language_info": {
   "codemirror_mode": {
    "name": "ipython",
    "version": 3
   },
   "file_extension": ".py",
   "mimetype": "text/x-python",
   "name": "python",
   "nbconvert_exporter": "python",
   "pygments_lexer": "ipython3",
   "version": "3.11.5"
  }
 },
 "nbformat": 4,
 "nbformat_minor": 5
}
